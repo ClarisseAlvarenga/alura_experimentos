{
  "nbformat": 4,
  "nbformat_minor": 0,
  "metadata": {
    "colab": {
      "name": "Experimentos_Alura_Clarisse.ipynb",
      "provenance": [],
      "authorship_tag": "ABX9TyPBrwmHmNFenPgslh0PAh36",
      "include_colab_link": true
    },
    "kernelspec": {
      "name": "python3",
      "display_name": "Python 3"
    }
  },
  "cells": [
    {
      "cell_type": "markdown",
      "metadata": {
        "id": "view-in-github",
        "colab_type": "text"
      },
      "source": [
        "<a href=\"https://colab.research.google.com/github/ClarisseAlvarenga/alura_experimentos/blob/master/Experimentos_Alura_Clarisse.ipynb\" target=\"_parent\"><img src=\"https://colab.research.google.com/assets/colab-badge.svg\" alt=\"Open In Colab\"/></a>"
      ]
    },
    {
      "cell_type": "markdown",
      "metadata": {
        "id": "yYd-y_gAz3qn"
      },
      "source": [
        "# **Introdução à análise de experimentos**\n",
        "\n"
      ]
    },
    {
      "cell_type": "markdown",
      "metadata": {
        "id": "w-TgHU9r0Kas"
      },
      "source": [
        "## **Importando as bibliotecas**"
      ]
    },
    {
      "cell_type": "code",
      "metadata": {
        "id": "45ZcvNAazyBn"
      },
      "source": [
        "#Pandas\n",
        "import pandas as pd\n",
        "#Numpy\n",
        "import numpy as np\n"
      ],
      "execution_count": 1,
      "outputs": []
    },
    {
      "cell_type": "markdown",
      "metadata": {
        "id": "qXBuhj7T01TP"
      },
      "source": [
        "## **Ensaios realizados na forma normalizada**\n",
        "\n"
      ]
    },
    {
      "cell_type": "markdown",
      "metadata": {
        "id": "6A1G3jJE2q9z"
      },
      "source": [
        "<img width='800px' src=\"https://github.com/ClarisseAlvarenga/alura_experimentos/blob/master/figuras/Figura_2.png?raw=true\">"
      ]
    },
    {
      "cell_type": "markdown",
      "metadata": {
        "id": "Wt-xOh0H2y9N"
      },
      "source": [
        "Construindo uma matriz representando todos os ensaios realizados"
      ]
    },
    {
      "cell_type": "code",
      "metadata": {
        "id": "IAung3GX09kg"
      },
      "source": [
        "#usando o numpy\n",
        "ensaios = np.array([-1,-1], [1,-1], [-1,1], [1,1])"
      ],
      "execution_count": null,
      "outputs": []
    },
    {
      "cell_type": "markdown",
      "metadata": {
        "id": "ek7mmvcM3TMR"
      },
      "source": [
        "pyDOE2\n",
        "\n",
        "\n",
        "https://pypi.org/project/pyDOE2/"
      ]
    },
    {
      "cell_type": "code",
      "metadata": {
        "id": "ctjycImi3iNr"
      },
      "source": [
        "!pip install pyDOE2"
      ],
      "execution_count": null,
      "outputs": []
    },
    {
      "cell_type": "code",
      "metadata": {
        "id": "QzJv-8j53VEj"
      },
      "source": [
        "import pyDOE2 as doe"
      ],
      "execution_count": 4,
      "outputs": []
    },
    {
      "cell_type": "markdown",
      "metadata": {
        "id": "wiQXjjYM3tU_"
      },
      "source": [
        "Criando um planejamento fatorial de $2^2$ usando o pyDOE2"
      ]
    },
    {
      "cell_type": "code",
      "metadata": {
        "id": "DZ_BWBN03fqm"
      },
      "source": [
        "#2 level full factorial design\n",
        "ensaios = doe.ff2n(2)"
      ],
      "execution_count": 5,
      "outputs": []
    },
    {
      "cell_type": "code",
      "metadata": {
        "id": "nlfamK_F4G4m",
        "outputId": "b694f1dc-9448-4f48-bd1d-ce6949c6d630",
        "colab": {
          "base_uri": "https://localhost:8080/",
          "height": 85
        }
      },
      "source": [
        "ensaios"
      ],
      "execution_count": 6,
      "outputs": [
        {
          "output_type": "execute_result",
          "data": {
            "text/plain": [
              "array([[-1., -1.],\n",
              "       [ 1., -1.],\n",
              "       [-1.,  1.],\n",
              "       [ 1.,  1.]])"
            ]
          },
          "metadata": {
            "tags": []
          },
          "execution_count": 6
        }
      ]
    },
    {
      "cell_type": "markdown",
      "metadata": {
        "id": "ZaTxjlOt4St9"
      },
      "source": [
        "Inserindo o planejamento num DataFrame"
      ]
    },
    {
      "cell_type": "code",
      "metadata": {
        "id": "IWccR8sX4IY1",
        "outputId": "e7ed1c30-9f15-4b30-f80d-ed3f6c9a5158",
        "colab": {
          "base_uri": "https://localhost:8080/",
          "height": 173
        }
      },
      "source": [
        "experimento = pd.DataFrame(ensaios, columns = ['Farinha', 'Chocolate'])\n",
        "experimento"
      ],
      "execution_count": 8,
      "outputs": [
        {
          "output_type": "execute_result",
          "data": {
            "text/html": [
              "<div>\n",
              "<style scoped>\n",
              "    .dataframe tbody tr th:only-of-type {\n",
              "        vertical-align: middle;\n",
              "    }\n",
              "\n",
              "    .dataframe tbody tr th {\n",
              "        vertical-align: top;\n",
              "    }\n",
              "\n",
              "    .dataframe thead th {\n",
              "        text-align: right;\n",
              "    }\n",
              "</style>\n",
              "<table border=\"1\" class=\"dataframe\">\n",
              "  <thead>\n",
              "    <tr style=\"text-align: right;\">\n",
              "      <th></th>\n",
              "      <th>Farinha</th>\n",
              "      <th>Chocolate</th>\n",
              "    </tr>\n",
              "  </thead>\n",
              "  <tbody>\n",
              "    <tr>\n",
              "      <th>0</th>\n",
              "      <td>-1.0</td>\n",
              "      <td>-1.0</td>\n",
              "    </tr>\n",
              "    <tr>\n",
              "      <th>1</th>\n",
              "      <td>1.0</td>\n",
              "      <td>-1.0</td>\n",
              "    </tr>\n",
              "    <tr>\n",
              "      <th>2</th>\n",
              "      <td>-1.0</td>\n",
              "      <td>1.0</td>\n",
              "    </tr>\n",
              "    <tr>\n",
              "      <th>3</th>\n",
              "      <td>1.0</td>\n",
              "      <td>1.0</td>\n",
              "    </tr>\n",
              "  </tbody>\n",
              "</table>\n",
              "</div>"
            ],
            "text/plain": [
              "   Farinha  Chocolate\n",
              "0     -1.0       -1.0\n",
              "1      1.0       -1.0\n",
              "2     -1.0        1.0\n",
              "3      1.0        1.0"
            ]
          },
          "metadata": {
            "tags": []
          },
          "execution_count": 8
        }
      ]
    },
    {
      "cell_type": "code",
      "metadata": {
        "id": "g_2tHtgM4db0"
      },
      "source": [
        "experimento['Porcoes'] = [19,37,24,49]"
      ],
      "execution_count": 9,
      "outputs": []
    },
    {
      "cell_type": "code",
      "metadata": {
        "id": "C2yfGlnR4plT",
        "outputId": "03055642-6888-4957-d4ed-5bc3b1e76467",
        "colab": {
          "base_uri": "https://localhost:8080/",
          "height": 173
        }
      },
      "source": [
        "experimento"
      ],
      "execution_count": 10,
      "outputs": [
        {
          "output_type": "execute_result",
          "data": {
            "text/html": [
              "<div>\n",
              "<style scoped>\n",
              "    .dataframe tbody tr th:only-of-type {\n",
              "        vertical-align: middle;\n",
              "    }\n",
              "\n",
              "    .dataframe tbody tr th {\n",
              "        vertical-align: top;\n",
              "    }\n",
              "\n",
              "    .dataframe thead th {\n",
              "        text-align: right;\n",
              "    }\n",
              "</style>\n",
              "<table border=\"1\" class=\"dataframe\">\n",
              "  <thead>\n",
              "    <tr style=\"text-align: right;\">\n",
              "      <th></th>\n",
              "      <th>Farinha</th>\n",
              "      <th>Chocolate</th>\n",
              "      <th>Porcoes</th>\n",
              "    </tr>\n",
              "  </thead>\n",
              "  <tbody>\n",
              "    <tr>\n",
              "      <th>0</th>\n",
              "      <td>-1.0</td>\n",
              "      <td>-1.0</td>\n",
              "      <td>19</td>\n",
              "    </tr>\n",
              "    <tr>\n",
              "      <th>1</th>\n",
              "      <td>1.0</td>\n",
              "      <td>-1.0</td>\n",
              "      <td>37</td>\n",
              "    </tr>\n",
              "    <tr>\n",
              "      <th>2</th>\n",
              "      <td>-1.0</td>\n",
              "      <td>1.0</td>\n",
              "      <td>24</td>\n",
              "    </tr>\n",
              "    <tr>\n",
              "      <th>3</th>\n",
              "      <td>1.0</td>\n",
              "      <td>1.0</td>\n",
              "      <td>49</td>\n",
              "    </tr>\n",
              "  </tbody>\n",
              "</table>\n",
              "</div>"
            ],
            "text/plain": [
              "   Farinha  Chocolate  Porcoes\n",
              "0     -1.0       -1.0       19\n",
              "1      1.0       -1.0       37\n",
              "2     -1.0        1.0       24\n",
              "3      1.0        1.0       49"
            ]
          },
          "metadata": {
            "tags": []
          },
          "execution_count": 10
        }
      ]
    },
    {
      "cell_type": "markdown",
      "metadata": {
        "id": "26W9ilvF43U0"
      },
      "source": [
        "## **Analisando graficamente o experimento**"
      ]
    },
    {
      "cell_type": "code",
      "metadata": {
        "id": "31pE34eO4qe0",
        "outputId": "9f20529d-a290-4269-96ff-1f2ed416b994",
        "colab": {
          "base_uri": "https://localhost:8080/",
          "height": 51
        }
      },
      "source": [
        "#usando o Seaborn\n",
        "import seaborn as sns"
      ],
      "execution_count": 11,
      "outputs": [
        {
          "output_type": "stream",
          "text": [
            "/usr/local/lib/python3.6/dist-packages/statsmodels/tools/_testing.py:19: FutureWarning: pandas.util.testing is deprecated. Use the functions in the public API at pandas.testing instead.\n",
            "  import pandas.util.testing as tm\n"
          ],
          "name": "stderr"
        }
      ]
    },
    {
      "cell_type": "code",
      "metadata": {
        "id": "INwDt5ta5AG7"
      },
      "source": [
        "#escolhendo a paleta de cores e o estilo do gráfico\n",
        "# paletas -> Accent, Accent_r, Blues, Blues_r, BrBG, BrBG_r, BuGn, BuGn_r, BuPu, BuPu_r, CMRmap, CMRmap_r, Dark2, Dark2_r, GnBu, GnBu_r, Greens, Greens_r, Greys, Greys_r, OrRd, OrRd_r, Oranges, Oranges_r, PRGn, PRGn_r, Paired, Paired_r, Pastel1, Pastel1_r, Pastel2, Pastel2_r, PiYG, PiYG_r, PuBu, PuBuGn, PuBuGn_r, PuBu_r, PuOr, PuOr_r, PuRd, PuRd_r, Purples, Purples_r, RdBu, RdBu_r, RdGy, RdGy_r, RdPu, RdPu_r, RdYlBu, RdYlBu_r, RdYlGn, RdYlGn_r, Reds, Reds_r, Set1, Set1_r, Set2, Set2_r, Set3, Set3_r, Spectral, Spectral_r, Wistia, Wistia_r, YlGn, YlGnBu, YlGnBu_r, YlGn_r, YlOrBr, YlOrBr_r, YlOrRd, YlOrRd_r, afmhot, afmhot_r, autumn, autumn_r, binary, binary_r, bone, bone_r, brg, brg_r, bwr, bwr_r, cividis, cividis_r, cool, cool_r, coolwarm, coolwarm_r, copper, copper_r, cubehelix, cubehelix_r, flag, flag_r, gist_earth, gist_earth_r, gist_gray, gist_gray_r, gist_heat, gist_heat_r, gist_ncar, gist_ncar_r, gist_rainbow, gist_rainbow_r, gist_stern, gist_stern_r, gist_yarg, gist_yarg_r, gnuplot, gnuplot2, gnuplot2_r, gnuplot_r, gray, gray_r, hot, hot_r, hsv, hsv_r, icefire, icefire_r, inferno, inferno_r, jet, jet_r, magma, magma_r, mako, mako_r, nipy_spectral, nipy_spectral_r, ocean, ocean_r, pink, pink_r, plasma, plasma_r, prism, prism_r, rainbow, rainbow_r, rocket, rocket_r, seismic, seismic_r, spring, spring_r, summer, summer_r, tab10, tab10_r, tab20, tab20_r, tab20b, tab20b_r, tab20c, tab20c_r, terrain, terrain_r, viridis, viridis_r, vlag, vlag_r, winter, winter_r\n",
        "sns.set_palette('terrain')\n",
        "# estilo -> white, dark, whitegrid, darkgrid, ticks\n",
        "sns.set_style('darkgrid')\n"
      ],
      "execution_count": 12,
      "outputs": []
    },
    {
      "cell_type": "markdown",
      "metadata": {
        "id": "XOUPO3y55X2P"
      },
      "source": [
        "**Para a farinha**"
      ]
    },
    {
      "cell_type": "code",
      "metadata": {
        "id": "-gWzzJ9E5Wgb",
        "outputId": "6e537e5b-48ac-4c2a-84f7-a497ef680861",
        "colab": {
          "base_uri": "https://localhost:8080/",
          "height": 369
        }
      },
      "source": [
        "ax1 = sns.lmplot(data= experimento, x='Farinha', y='Porcoes', ci=None, hue='Chocolate')\n",
        "#ci = intervalo de confiança\n",
        "#hue divide a linha em duas de acordo com o Chocolate, para verificar o efeito da interação com a farinha\n",
        "#definindo um parâmetro para excluir os valores intermediários\n",
        "ax1.set(xticks = (-1,1));"
      ],
      "execution_count": 22,
      "outputs": [
        {
          "output_type": "display_data",
          "data": {
            "image/png": "[encoded data removed]",
            "text/plain": [
              "<Figure size 417.75x360 with 1 Axes>"
            ]
          },
          "metadata": {
            "tags": []
          }
        }
      ]
    },
    {
      "cell_type": "markdown",
      "metadata": {
        "id": "n9z3s-aN5cYM"
      },
      "source": [
        "**Para o chocolate**"
      ]
    },
    {
      "cell_type": "code",
      "metadata": {
        "id": "lVjXCLKg5fUq",
        "outputId": "a51286af-02f1-454f-dda3-eabd61dff9c5",
        "colab": {
          "base_uri": "https://localhost:8080/",
          "height": 369
        }
      },
      "source": [
        "#valores separados em dois grupos pela variável Farinha\n",
        "ax2 = sns.lmplot(data= experimento, x='Chocolate', y='Porcoes', ci=None, hue='Farinha')\n",
        "ax2.set(xticks = (-1,1));"
      ],
      "execution_count": 25,
      "outputs": [
        {
          "output_type": "display_data",
          "data": {
            "image/png": "[encoded data removed]",
            "text/plain": [
              "<Figure size 415.5x360 with 1 Axes>"
            ]
          },
          "metadata": {
            "tags": []
          }
        }
      ]
    },
    {
      "cell_type": "markdown",
      "metadata": {
        "id": "wnDc-JRjHPaP"
      },
      "source": [
        "**Visualizando os dois gráficos em conjunto**"
      ]
    },
    {
      "cell_type": "code",
      "metadata": {
        "id": "3f7HKCuR8PYV"
      },
      "source": [
        "#função copiada do stackoverflow - https://stackoverflow.com/questions/33049884/how-to-plot-2-seaborn-lmplots-side-by-side\n",
        "def hue_regplot(data, x, y, hue, palette=None, **kwargs):\n",
        "    from matplotlib.cm import get_cmap\n",
        "    \n",
        "    regplots = []\n",
        "    \n",
        "    levels = data[hue].unique()\n",
        "    \n",
        "    if palette is None:\n",
        "        default_colors = get_cmap('tab10')\n",
        "        palette = {k: default_colors(i) for i, k in enumerate(levels)}\n",
        "    \n",
        "    for key in levels:\n",
        "        regplots.append(\n",
        "            sns.regplot(\n",
        "                x=x,\n",
        "                y=y,\n",
        "                data=data[data[hue] == key],\n",
        "                color=palette[key],\n",
        "                **kwargs\n",
        "            )\n",
        "        )\n",
        "    \n",
        "    return regplots"
      ],
      "execution_count": 52,
      "outputs": []
    },
    {
      "cell_type": "code",
      "metadata": {
        "id": "HPjT1X2nBTGt",
        "outputId": "1e7826c4-c692-4411-dde6-420136b9583c",
        "colab": {
          "base_uri": "https://localhost:8080/",
          "height": 497
        }
      },
      "source": [
        "# Visualizando lado a lado Two subplots\n",
        "f, (ax1, ax2) = plt.subplots(1, 2, sharey=True,figsize=(15,8))\n",
        "#passando os parâmetros dos nossos gráficos para a função\n",
        "hue_regplot(data= experimento, x='Chocolate', y='Porcoes',hue='Farinha', ax=ax2)\n",
        "hue_regplot(data=experimento, x='Farinha', y='Porcoes', hue='Chocolate', ax=ax1)\n",
        "plt.show()"
      ],
      "execution_count": 61,
      "outputs": [
        {
          "output_type": "display_data",
          "data": {
            "image/png": "[encoded data removed]",
            "text/plain": [
              "<Figure size 1080x576 with 2 Axes>"
            ]
          },
          "metadata": {
            "tags": []
          }
        }
      ]
    },
    {
      "cell_type": "markdown",
      "metadata": {
        "id": "M9JBU5ZyCk0L"
      },
      "source": [
        "## **Análise Estatística**"
      ]
    },
    {
      "cell_type": "markdown",
      "metadata": {
        "id": "aDyliT4dDAbK"
      },
      "source": [
        "<img src=\"https://github.com/ClarisseAlvarenga/alura_experimentos/blob/master/figuras/Figura_3.png?raw=true\">"
      ]
    },
    {
      "cell_type": "markdown",
      "metadata": {
        "id": "lTGDDEFoEpLu"
      },
      "source": [
        "### **Ajustando o modelo estatístico**"
      ]
    },
    {
      "cell_type": "code",
      "metadata": {
        "id": "rVwGc323BvMd"
      },
      "source": [
        "#usando o statsmodels\n",
        "import statsmodels.api as sm\n",
        "import statsmodels.formula.api as smf"
      ],
      "execution_count": 63,
      "outputs": []
    },
    {
      "cell_type": "code",
      "metadata": {
        "id": "eVeK217oEy65"
      },
      "source": [
        "#formula: buscamos as porções, pela Farinha, Chocolate e a interação Farinha Chocolate (o intercepto é gerado pela função) - a fórmula parece muito com a sintaxe de modelos do R\n",
        "modelo = smf.ols(data=experimento, formula = 'Porcoes ~ Farinha + Chocolate + Farinha:Chocolate')"
      ],
      "execution_count": 64,
      "outputs": []
    },
    {
      "cell_type": "code",
      "metadata": {
        "id": "XtsBBAyhF8fh"
      },
      "source": [
        "#ajustando os parâmetros do modelo\n",
        "modelo_ajustado = modelo.fit()"
      ],
      "execution_count": 65,
      "outputs": []
    },
    {
      "cell_type": "code",
      "metadata": {
        "id": "qRD6T2ecGGcV",
        "outputId": "deb7465f-86c1-4ab1-a758-f952a1a12271",
        "colab": {
          "base_uri": "https://localhost:8080/",
          "height": 544
        }
      },
      "source": [
        "#vendo os resultados que o método de ajuste encontrou\n",
        "print(modelo_ajustado.summary())\n",
        "#intercept é a média da quantidade de porções nos experimentos realizados"
      ],
      "execution_count": 67,
      "outputs": [
        {
          "output_type": "stream",
          "text": [
            "                            OLS Regression Results                            \n",
            "==============================================================================\n",
            "Dep. Variable:                Porcoes   R-squared:                       1.000\n",
            "Model:                            OLS   Adj. R-squared:                    nan\n",
            "Method:                 Least Squares   F-statistic:                       nan\n",
            "Date:                Sat, 26 Sep 2020   Prob (F-statistic):                nan\n",
            "Time:                        01:48:31   Log-Likelihood:                    inf\n",
            "No. Observations:                   4   AIC:                              -inf\n",
            "Df Residuals:                       0   BIC:                              -inf\n",
            "Df Model:                           3                                         \n",
            "Covariance Type:            nonrobust                                         \n",
            "=====================================================================================\n",
            "                        coef    std err          t      P>|t|      [0.025      0.975]\n",
            "-------------------------------------------------------------------------------------\n",
            "Intercept            32.2500        nan        nan        nan         nan         nan\n",
            "Farinha              10.7500        nan        nan        nan         nan         nan\n",
            "Chocolate             4.2500        nan        nan        nan         nan         nan\n",
            "Farinha:Chocolate     1.7500        nan        nan        nan         nan         nan\n",
            "==============================================================================\n",
            "Omnibus:                          nan   Durbin-Watson:                     nan\n",
            "Prob(Omnibus):                    nan   Jarque-Bera (JB):                1.500\n",
            "Skew:                           0.000   Prob(JB):                        0.472\n",
            "Kurtosis:                       0.000   Cond. No.                         1.00\n",
            "==============================================================================\n",
            "\n",
            "Warnings:\n",
            "[1] Standard Errors assume that the covariance matrix of the errors is correctly specified.\n"
          ],
          "name": "stdout"
        },
        {
          "output_type": "stream",
          "text": [
            "/usr/local/lib/python3.6/dist-packages/statsmodels/stats/stattools.py:71: ValueWarning: omni_normtest is not valid with less than 8 observations; 4 samples were given.\n",
            "  \"samples were given.\" % int(n), ValueWarning)\n",
            "/usr/local/lib/python3.6/dist-packages/statsmodels/stats/stattools.py:46: RuntimeWarning: invalid value encountered in double_scalars\n",
            "  dw = np.sum(diff_resids**2, axis=axis) / np.sum(resids**2, axis=axis)\n"
          ],
          "name": "stderr"
        }
      ]
    },
    {
      "cell_type": "markdown",
      "metadata": {
        "id": "G9rczXtEGstc"
      },
      "source": [
        "### **Análise de significância estatística**"
      ]
    },
    {
      "cell_type": "code",
      "metadata": {
        "id": "2U9WY53rGM_e"
      },
      "source": [
        ""
      ],
      "execution_count": null,
      "outputs": []
    }
  ]
}