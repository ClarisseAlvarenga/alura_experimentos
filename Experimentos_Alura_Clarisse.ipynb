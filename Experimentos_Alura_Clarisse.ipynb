{
  "nbformat": 4,
  "nbformat_minor": 0,
  "metadata": {
    "colab": {
      "name": "Experimentos_Alura_Clarisse.ipynb",
      "provenance": [],
      "authorship_tag": "ABX9TyNKKQ0L8OsFjOjXtLP/Daj/",
      "include_colab_link": true
    },
    "kernelspec": {
      "name": "python3",
      "display_name": "Python 3"
    }
  },
  "cells": [
    {
      "cell_type": "markdown",
      "metadata": {
        "id": "view-in-github",
        "colab_type": "text"
      },
      "source": [
        "<a href=\"https://colab.research.google.com/github/ClarisseAlvarenga/alura_experimentos/blob/master/Experimentos_Alura_Clarisse.ipynb\" target=\"_parent\"><img src=\"https://colab.research.google.com/assets/colab-badge.svg\" alt=\"Open In Colab\"/></a>"
      ]
    },
    {
      "cell_type": "markdown",
      "metadata": {
        "id": "yYd-y_gAz3qn"
      },
      "source": [
        "# **Introdução à análise de experimentos**\n",
        "\n"
      ]
    },
    {
      "cell_type": "markdown",
      "metadata": {
        "id": "w-TgHU9r0Kas"
      },
      "source": [
        "## **Importando as bibliotecas**"
      ]
    },
    {
      "cell_type": "code",
      "metadata": {
        "id": "45ZcvNAazyBn"
      },
      "source": [
        "#Pandas\n",
        "import pandas as pd\n",
        "#Numpy\n",
        "import numpy as np\n"
      ],
      "execution_count": 1,
      "outputs": []
    },
    {
      "cell_type": "markdown",
      "metadata": {
        "id": "qXBuhj7T01TP"
      },
      "source": [
        "## **Ensaios realizados na forma normalizada**\n",
        "\n"
      ]
    },
    {
      "cell_type": "markdown",
      "metadata": {
        "id": "6A1G3jJE2q9z"
      },
      "source": [
        "<center>\n",
        "<img width='800px' src=\"https://github.com/ClarisseAlvarenga/alura_experimentos/blob/master/figuras/Figura_2.png?raw=true\"> </center>"
      ]
    },
    {
      "cell_type": "markdown",
      "metadata": {
        "id": "Wt-xOh0H2y9N"
      },
      "source": [
        "Construindo uma matriz representando todos os ensaios realizados"
      ]
    },
    {
      "cell_type": "code",
      "metadata": {
        "id": "IAung3GX09kg"
      },
      "source": [
        "#usando o numpy\n",
        "ensaios = np.array([[-1,-1], [1,-1], [-1,1], [1,1]])"
      ],
      "execution_count": 2,
      "outputs": []
    },
    {
      "cell_type": "markdown",
      "metadata": {
        "id": "ek7mmvcM3TMR"
      },
      "source": [
        "pyDOE2\n",
        "\n",
        "\n",
        "https://pypi.org/project/pyDOE2/"
      ]
    },
    {
      "cell_type": "code",
      "metadata": {
        "id": "ctjycImi3iNr",
        "outputId": "fa995f11-03d2-4ca0-8652-c27cf414b67a",
        "colab": {
          "base_uri": "https://localhost:8080/",
          "height": 204
        }
      },
      "source": [
        "!pip install pyDOE2"
      ],
      "execution_count": 3,
      "outputs": [
        {
          "output_type": "stream",
          "text": [
            "Collecting pyDOE2\n",
            "  Downloading https://files.pythonhosted.org/packages/70/1f/8a2e1b57f6dd22cd2002e4332e229e87a3858d560c516b50ab7fe5bb075c/pyDOE2-1.3.0.tar.gz\n",
            "Requirement already satisfied: numpy in /usr/local/lib/python3.6/dist-packages (from pyDOE2) (1.18.5)\n",
            "Requirement already satisfied: scipy in /usr/local/lib/python3.6/dist-packages (from pyDOE2) (1.4.1)\n",
            "Building wheels for collected packages: pyDOE2\n",
            "  Building wheel for pyDOE2 (setup.py) ... \u001b[?25l\u001b[?25hdone\n",
            "  Created wheel for pyDOE2: filename=pyDOE2-1.3.0-cp36-none-any.whl size=25519 sha256=7452c7b460082a1e2e3317fa59cc79907b5ae525cc14c45c1eb92c15a57a1ecd\n",
            "  Stored in directory: /root/.cache/pip/wheels/60/88/1d/b334ee00dd83e82d111ec56c3be91573d335c93870698037f1\n",
            "Successfully built pyDOE2\n",
            "Installing collected packages: pyDOE2\n",
            "Successfully installed pyDOE2-1.3.0\n"
          ],
          "name": "stdout"
        }
      ]
    },
    {
      "cell_type": "code",
      "metadata": {
        "id": "QzJv-8j53VEj"
      },
      "source": [
        "import pyDOE2 as doe"
      ],
      "execution_count": 4,
      "outputs": []
    },
    {
      "cell_type": "markdown",
      "metadata": {
        "id": "wiQXjjYM3tU_"
      },
      "source": [
        "Criando um planejamento fatorial de $2^2$ usando o pyDOE2"
      ]
    },
    {
      "cell_type": "code",
      "metadata": {
        "id": "DZ_BWBN03fqm"
      },
      "source": [
        "#2 level full factorial design\n",
        "ensaios = doe.ff2n(2)"
      ],
      "execution_count": 5,
      "outputs": []
    },
    {
      "cell_type": "code",
      "metadata": {
        "id": "nlfamK_F4G4m",
        "outputId": "259a6414-d271-4d44-8d6c-be4239d83613",
        "colab": {
          "base_uri": "https://localhost:8080/",
          "height": 85
        }
      },
      "source": [
        "ensaios"
      ],
      "execution_count": 6,
      "outputs": [
        {
          "output_type": "execute_result",
          "data": {
            "text/plain": [
              "array([[-1., -1.],\n",
              "       [ 1., -1.],\n",
              "       [-1.,  1.],\n",
              "       [ 1.,  1.]])"
            ]
          },
          "metadata": {
            "tags": []
          },
          "execution_count": 6
        }
      ]
    },
    {
      "cell_type": "markdown",
      "metadata": {
        "id": "ZaTxjlOt4St9"
      },
      "source": [
        "Inserindo o planejamento num DataFrame"
      ]
    },
    {
      "cell_type": "code",
      "metadata": {
        "id": "IWccR8sX4IY1",
        "outputId": "63ca4144-445e-4762-ae1b-a35868c6f240",
        "colab": {
          "base_uri": "https://localhost:8080/",
          "height": 173
        }
      },
      "source": [
        "experimento = pd.DataFrame(ensaios, columns = ['Farinha', 'Chocolate'])\n",
        "experimento"
      ],
      "execution_count": 7,
      "outputs": [
        {
          "output_type": "execute_result",
          "data": {
            "text/html": [
              "<div>\n",
              "<style scoped>\n",
              "    .dataframe tbody tr th:only-of-type {\n",
              "        vertical-align: middle;\n",
              "    }\n",
              "\n",
              "    .dataframe tbody tr th {\n",
              "        vertical-align: top;\n",
              "    }\n",
              "\n",
              "    .dataframe thead th {\n",
              "        text-align: right;\n",
              "    }\n",
              "</style>\n",
              "<table border=\"1\" class=\"dataframe\">\n",
              "  <thead>\n",
              "    <tr style=\"text-align: right;\">\n",
              "      <th></th>\n",
              "      <th>Farinha</th>\n",
              "      <th>Chocolate</th>\n",
              "    </tr>\n",
              "  </thead>\n",
              "  <tbody>\n",
              "    <tr>\n",
              "      <th>0</th>\n",
              "      <td>-1.0</td>\n",
              "      <td>-1.0</td>\n",
              "    </tr>\n",
              "    <tr>\n",
              "      <th>1</th>\n",
              "      <td>1.0</td>\n",
              "      <td>-1.0</td>\n",
              "    </tr>\n",
              "    <tr>\n",
              "      <th>2</th>\n",
              "      <td>-1.0</td>\n",
              "      <td>1.0</td>\n",
              "    </tr>\n",
              "    <tr>\n",
              "      <th>3</th>\n",
              "      <td>1.0</td>\n",
              "      <td>1.0</td>\n",
              "    </tr>\n",
              "  </tbody>\n",
              "</table>\n",
              "</div>"
            ],
            "text/plain": [
              "   Farinha  Chocolate\n",
              "0     -1.0       -1.0\n",
              "1      1.0       -1.0\n",
              "2     -1.0        1.0\n",
              "3      1.0        1.0"
            ]
          },
          "metadata": {
            "tags": []
          },
          "execution_count": 7
        }
      ]
    },
    {
      "cell_type": "code",
      "metadata": {
        "id": "g_2tHtgM4db0"
      },
      "source": [
        "experimento['Porcoes'] = [19,37,24,49]"
      ],
      "execution_count": 8,
      "outputs": []
    },
    {
      "cell_type": "code",
      "metadata": {
        "id": "C2yfGlnR4plT",
        "outputId": "ec5a1345-bd8f-42a3-bcca-47faf41aa600",
        "colab": {
          "base_uri": "https://localhost:8080/",
          "height": 173
        }
      },
      "source": [
        "experimento"
      ],
      "execution_count": 9,
      "outputs": [
        {
          "output_type": "execute_result",
          "data": {
            "text/html": [
              "<div>\n",
              "<style scoped>\n",
              "    .dataframe tbody tr th:only-of-type {\n",
              "        vertical-align: middle;\n",
              "    }\n",
              "\n",
              "    .dataframe tbody tr th {\n",
              "        vertical-align: top;\n",
              "    }\n",
              "\n",
              "    .dataframe thead th {\n",
              "        text-align: right;\n",
              "    }\n",
              "</style>\n",
              "<table border=\"1\" class=\"dataframe\">\n",
              "  <thead>\n",
              "    <tr style=\"text-align: right;\">\n",
              "      <th></th>\n",
              "      <th>Farinha</th>\n",
              "      <th>Chocolate</th>\n",
              "      <th>Porcoes</th>\n",
              "    </tr>\n",
              "  </thead>\n",
              "  <tbody>\n",
              "    <tr>\n",
              "      <th>0</th>\n",
              "      <td>-1.0</td>\n",
              "      <td>-1.0</td>\n",
              "      <td>19</td>\n",
              "    </tr>\n",
              "    <tr>\n",
              "      <th>1</th>\n",
              "      <td>1.0</td>\n",
              "      <td>-1.0</td>\n",
              "      <td>37</td>\n",
              "    </tr>\n",
              "    <tr>\n",
              "      <th>2</th>\n",
              "      <td>-1.0</td>\n",
              "      <td>1.0</td>\n",
              "      <td>24</td>\n",
              "    </tr>\n",
              "    <tr>\n",
              "      <th>3</th>\n",
              "      <td>1.0</td>\n",
              "      <td>1.0</td>\n",
              "      <td>49</td>\n",
              "    </tr>\n",
              "  </tbody>\n",
              "</table>\n",
              "</div>"
            ],
            "text/plain": [
              "   Farinha  Chocolate  Porcoes\n",
              "0     -1.0       -1.0       19\n",
              "1      1.0       -1.0       37\n",
              "2     -1.0        1.0       24\n",
              "3      1.0        1.0       49"
            ]
          },
          "metadata": {
            "tags": []
          },
          "execution_count": 9
        }
      ]
    },
    {
      "cell_type": "markdown",
      "metadata": {
        "id": "26W9ilvF43U0"
      },
      "source": [
        "## **Analisando graficamente o experimento**"
      ]
    },
    {
      "cell_type": "code",
      "metadata": {
        "id": "31pE34eO4qe0"
      },
      "source": [
        "#usando o Seaborn\n",
        "import seaborn as sns"
      ],
      "execution_count": 10,
      "outputs": []
    },
    {
      "cell_type": "code",
      "metadata": {
        "id": "INwDt5ta5AG7"
      },
      "source": [
        "#escolhendo a paleta de cores e o estilo do gráfico\n",
        "# paletas -> Accent, Accent_r, Blues, Blues_r, BrBG, BrBG_r, BuGn, BuGn_r, BuPu, BuPu_r, CMRmap, CMRmap_r, Dark2, Dark2_r, GnBu, GnBu_r, Greens, Greens_r, Greys, Greys_r, OrRd, OrRd_r, Oranges, Oranges_r, PRGn, PRGn_r, Paired, Paired_r, Pastel1, Pastel1_r, Pastel2, Pastel2_r, PiYG, PiYG_r, PuBu, PuBuGn, PuBuGn_r, PuBu_r, PuOr, PuOr_r, PuRd, PuRd_r, Purples, Purples_r, RdBu, RdBu_r, RdGy, RdGy_r, RdPu, RdPu_r, RdYlBu, RdYlBu_r, RdYlGn, RdYlGn_r, Reds, Reds_r, Set1, Set1_r, Set2, Set2_r, Set3, Set3_r, Spectral, Spectral_r, Wistia, Wistia_r, YlGn, YlGnBu, YlGnBu_r, YlGn_r, YlOrBr, YlOrBr_r, YlOrRd, YlOrRd_r, afmhot, afmhot_r, autumn, autumn_r, binary, binary_r, bone, bone_r, brg, brg_r, bwr, bwr_r, cividis, cividis_r, cool, cool_r, coolwarm, coolwarm_r, copper, copper_r, cubehelix, cubehelix_r, flag, flag_r, gist_earth, gist_earth_r, gist_gray, gist_gray_r, gist_heat, gist_heat_r, gist_ncar, gist_ncar_r, gist_rainbow, gist_rainbow_r, gist_stern, gist_stern_r, gist_yarg, gist_yarg_r, gnuplot, gnuplot2, gnuplot2_r, gnuplot_r, gray, gray_r, hot, hot_r, hsv, hsv_r, icefire, icefire_r, inferno, inferno_r, jet, jet_r, magma, magma_r, mako, mako_r, nipy_spectral, nipy_spectral_r, ocean, ocean_r, pink, pink_r, plasma, plasma_r, prism, prism_r, rainbow, rainbow_r, rocket, rocket_r, seismic, seismic_r, spring, spring_r, summer, summer_r, tab10, tab10_r, tab20, tab20_r, tab20b, tab20b_r, tab20c, tab20c_r, terrain, terrain_r, viridis, viridis_r, vlag, vlag_r, winter, winter_r\n",
        "sns.set_palette('terrain')\n",
        "# estilo -> white, dark, whitegrid, darkgrid, ticks\n",
        "sns.set_style('darkgrid')\n"
      ],
      "execution_count": 11,
      "outputs": []
    },
    {
      "cell_type": "markdown",
      "metadata": {
        "id": "XOUPO3y55X2P"
      },
      "source": [
        "**Para a farinha**"
      ]
    },
    {
      "cell_type": "code",
      "metadata": {
        "id": "-gWzzJ9E5Wgb",
        "outputId": "43947950-4505-42f9-aa18-90857026357f",
        "colab": {
          "base_uri": "https://localhost:8080/",
          "height": 383
        }
      },
      "source": [
        "ax1 = sns.lmplot(data= experimento, x='Farinha', y='Porcoes', ci=None, hue='Chocolate')\n",
        "#ci = intervalo de confiança\n",
        "#hue divide a linha em duas de acordo com o Chocolate, para verificar o efeito da interação com a farinha\n",
        "#definindo um parâmetro para excluir os valores intermediários\n",
        "ax1.set(xticks = (-1,1));"
      ],
      "execution_count": 12,
      "outputs": [
        {
          "output_type": "display_data",
          "data": {
            "image/png": "[encoded data removed]",
            "text/plain": [
              "<Figure size 417.75x360 with 1 Axes>"
            ]
          },
          "metadata": {
            "tags": []
          }
        }
      ]
    },
    {
      "cell_type": "markdown",
      "metadata": {
        "id": "n9z3s-aN5cYM"
      },
      "source": [
        "**Para o chocolate**"
      ]
    },
    {
      "cell_type": "code",
      "metadata": {
        "id": "lVjXCLKg5fUq",
        "outputId": "92da5202-5b2b-445b-beb5-28669e9564ac",
        "colab": {
          "base_uri": "https://localhost:8080/",
          "height": 383
        }
      },
      "source": [
        "#valores separados em dois grupos pela variável Farinha\n",
        "ax2 = sns.lmplot(data= experimento, x='Chocolate', y='Porcoes', ci=None, hue='Farinha')\n",
        "ax2.set(xticks = (-1,1));"
      ],
      "execution_count": 13,
      "outputs": [
        {
          "output_type": "display_data",
          "data": {
            "image/png": "[encoded data removed]",
            "text/plain": [
              "<Figure size 415.5x360 with 1 Axes>"
            ]
          },
          "metadata": {
            "tags": []
          }
        }
      ]
    },
    {
      "cell_type": "markdown",
      "metadata": {
        "id": "wnDc-JRjHPaP"
      },
      "source": [
        "**Visualizando os dois gráficos em conjunto**"
      ]
    },
    {
      "cell_type": "code",
      "metadata": {
        "id": "3f7HKCuR8PYV"
      },
      "source": [
        "#função copiada do stackoverflow - https://stackoverflow.com/questions/33049884/how-to-plot-2-seaborn-lmplots-side-by-side\n",
        "def hue_regplot(data, x, y, hue, palette=None, **kwargs):\n",
        "    from matplotlib.cm import get_cmap\n",
        "    \n",
        "    regplots = []\n",
        "    \n",
        "    levels = data[hue].unique()\n",
        "    \n",
        "    if palette is None:\n",
        "        default_colors = get_cmap('tab10')\n",
        "        palette = {k: default_colors(i) for i, k in enumerate(levels)}\n",
        "    \n",
        "    for key in levels:\n",
        "        regplots.append(\n",
        "            sns.regplot(\n",
        "                x=x,\n",
        "                y=y,\n",
        "                data=data[data[hue] == key],\n",
        "                color=palette[key],\n",
        "                **kwargs\n",
        "            )\n",
        "        )\n",
        "    \n",
        "    return regplots"
      ],
      "execution_count": 14,
      "outputs": []
    },
    {
      "cell_type": "code",
      "metadata": {
        "id": "HPjT1X2nBTGt",
        "outputId": "48405d8a-4e5a-4c46-91a1-8e3b34cb996d",
        "colab": {
          "base_uri": "https://localhost:8080/",
          "height": 497
        }
      },
      "source": [
        "# Visualizando lado a lado Two subplots\n",
        "import matplotlib.pyplot as plt\n",
        "\n",
        "f, (ax1, ax2) = plt.subplots(1, 2, sharey=True,figsize=(15,8))\n",
        "#passando os parâmetros dos nossos gráficos para a função\n",
        "hue_regplot(data= experimento, x='Chocolate', y='Porcoes',hue='Farinha', ax=ax2)\n",
        "hue_regplot(data=experimento, x='Farinha', y='Porcoes', hue='Chocolate', ax=ax1)\n",
        "plt.show()"
      ],
      "execution_count": 15,
      "outputs": [
        {
          "output_type": "display_data",
          "data": {
            "image/png": "[encoded data removed]",
            "text/plain": [
              "<Figure size 1080x576 with 2 Axes>"
            ]
          },
          "metadata": {
            "tags": []
          }
        }
      ]
    },
    {
      "cell_type": "markdown",
      "metadata": {
        "id": "M9JBU5ZyCk0L"
      },
      "source": [
        "## **Análise Estatística**"
      ]
    },
    {
      "cell_type": "markdown",
      "metadata": {
        "id": "aDyliT4dDAbK"
      },
      "source": [
        "<img src=\"https://github.com/ClarisseAlvarenga/alura_experimentos/blob/master/figuras/Figura_3.png?raw=true\">"
      ]
    },
    {
      "cell_type": "markdown",
      "metadata": {
        "id": "lTGDDEFoEpLu"
      },
      "source": [
        "### **Ajustando o modelo estatístico**"
      ]
    },
    {
      "cell_type": "code",
      "metadata": {
        "id": "rVwGc323BvMd",
        "outputId": "5397d089-8764-4eec-fadc-55b3880888b2",
        "colab": {
          "base_uri": "https://localhost:8080/",
          "height": 51
        }
      },
      "source": [
        "#usando o statsmodels\n",
        "import statsmodels.api as sm\n",
        "import statsmodels.formula.api as smf"
      ],
      "execution_count": 16,
      "outputs": [
        {
          "output_type": "stream",
          "text": [
            "/usr/local/lib/python3.6/dist-packages/statsmodels/tools/_testing.py:19: FutureWarning: pandas.util.testing is deprecated. Use the functions in the public API at pandas.testing instead.\n",
            "  import pandas.util.testing as tm\n"
          ],
          "name": "stderr"
        }
      ]
    },
    {
      "cell_type": "code",
      "metadata": {
        "id": "eVeK217oEy65"
      },
      "source": [
        "#formula: buscamos as porções, pela Farinha, Chocolate e a interação Farinha Chocolate (o intercepto é gerado pela função) - a fórmula parece muito com a sintaxe de modelos do R\n",
        "modelo = smf.ols(data=experimento, formula = 'Porcoes ~ Farinha + Chocolate + Farinha:Chocolate')"
      ],
      "execution_count": 17,
      "outputs": []
    },
    {
      "cell_type": "code",
      "metadata": {
        "id": "XtsBBAyhF8fh"
      },
      "source": [
        "#ajustando os parâmetros do modelo\n",
        "modelo_ajustado = modelo.fit()"
      ],
      "execution_count": 18,
      "outputs": []
    },
    {
      "cell_type": "code",
      "metadata": {
        "id": "qRD6T2ecGGcV",
        "outputId": "90449e06-f897-4181-d45f-bb561025664c",
        "colab": {
          "base_uri": "https://localhost:8080/",
          "height": 816
        }
      },
      "source": [
        "#vendo os resultados que o método de ajuste encontrou\n",
        "print(modelo_ajustado.summary())\n",
        "#intercept é a média da quantidade de porções nos experimentos realizados"
      ],
      "execution_count": 19,
      "outputs": [
        {
          "output_type": "stream",
          "text": [
            "                            OLS Regression Results                            \n",
            "==============================================================================\n",
            "Dep. Variable:                Porcoes   R-squared:                       1.000\n",
            "Model:                            OLS   Adj. R-squared:                    nan\n",
            "Method:                 Least Squares   F-statistic:                       nan\n",
            "Date:                Mon, 05 Oct 2020   Prob (F-statistic):                nan\n",
            "Time:                        00:40:25   Log-Likelihood:                    inf\n",
            "No. Observations:                   4   AIC:                              -inf\n",
            "Df Residuals:                       0   BIC:                              -inf\n",
            "Df Model:                           3                                         \n",
            "Covariance Type:            nonrobust                                         \n",
            "=====================================================================================\n",
            "                        coef    std err          t      P>|t|      [0.025      0.975]\n",
            "-------------------------------------------------------------------------------------\n",
            "Intercept            32.2500        nan        nan        nan         nan         nan\n",
            "Farinha              10.7500        nan        nan        nan         nan         nan\n",
            "Chocolate             4.2500        nan        nan        nan         nan         nan\n",
            "Farinha:Chocolate     1.7500        nan        nan        nan         nan         nan\n",
            "==============================================================================\n",
            "Omnibus:                          nan   Durbin-Watson:                     nan\n",
            "Prob(Omnibus):                    nan   Jarque-Bera (JB):                1.500\n",
            "Skew:                           0.000   Prob(JB):                        0.472\n",
            "Kurtosis:                       0.000   Cond. No.                         1.00\n",
            "==============================================================================\n",
            "\n",
            "Warnings:\n",
            "[1] Standard Errors assume that the covariance matrix of the errors is correctly specified.\n"
          ],
          "name": "stdout"
        },
        {
          "output_type": "stream",
          "text": [
            "/usr/local/lib/python3.6/dist-packages/statsmodels/stats/stattools.py:71: ValueWarning: omni_normtest is not valid with less than 8 observations; 4 samples were given.\n",
            "  \"samples were given.\" % int(n), ValueWarning)\n",
            "/usr/local/lib/python3.6/dist-packages/statsmodels/regression/linear_model.py:1648: RuntimeWarning: divide by zero encountered in true_divide\n",
            "  return 1 - (np.divide(self.nobs - self.k_constant, self.df_resid)\n",
            "/usr/local/lib/python3.6/dist-packages/statsmodels/regression/linear_model.py:1649: RuntimeWarning: invalid value encountered in double_scalars\n",
            "  * (1 - self.rsquared))\n",
            "/usr/local/lib/python3.6/dist-packages/statsmodels/regression/linear_model.py:1665: RuntimeWarning: invalid value encountered in double_scalars\n",
            "  return self.ssr/self.df_resid\n",
            "/usr/local/lib/python3.6/dist-packages/statsmodels/regression/linear_model.py:867: RuntimeWarning: divide by zero encountered in log\n",
            "  llf = -nobs2*np.log(2*np.pi) - nobs2*np.log(ssr / nobs) - nobs2\n",
            "/usr/local/lib/python3.6/dist-packages/statsmodels/stats/stattools.py:46: RuntimeWarning: invalid value encountered in double_scalars\n",
            "  dw = np.sum(diff_resids**2, axis=axis) / np.sum(resids**2, axis=axis)\n",
            "/usr/local/lib/python3.6/dist-packages/statsmodels/regression/linear_model.py:1578: RuntimeWarning: invalid value encountered in double_scalars\n",
            "  return np.dot(wresid, wresid) / self.df_resid\n",
            "/usr/local/lib/python3.6/dist-packages/scipy/stats/_distn_infrastructure.py:903: RuntimeWarning: invalid value encountered in greater\n",
            "  return (a < x) & (x < b)\n",
            "/usr/local/lib/python3.6/dist-packages/scipy/stats/_distn_infrastructure.py:903: RuntimeWarning: invalid value encountered in less\n",
            "  return (a < x) & (x < b)\n",
            "/usr/local/lib/python3.6/dist-packages/scipy/stats/_distn_infrastructure.py:1912: RuntimeWarning: invalid value encountered in less_equal\n",
            "  cond2 = cond0 & (x <= _a)\n"
          ],
          "name": "stderr"
        }
      ]
    },
    {
      "cell_type": "markdown",
      "metadata": {
        "id": "G9rczXtEGstc"
      },
      "source": [
        "### **Análise de significância estatística**"
      ]
    },
    {
      "cell_type": "markdown",
      "metadata": {
        "id": "U-DtdHbENLNT"
      },
      "source": [
        "<center>\n",
        "<img src='https://github.com/ClarisseAlvarenga/alura_experimentos/blob/master/figuras/Figura_4.png?raw=true'> </center>"
      ]
    },
    {
      "cell_type": "markdown",
      "metadata": {
        "id": "aSOHNMGoOObd"
      },
      "source": [
        "## **Aumentando os Graus de Liberdade do Modelo**"
      ]
    },
    {
      "cell_type": "markdown",
      "metadata": {
        "id": "L7QOz4GrOTp2"
      },
      "source": [
        "<img src=\"https://github.com/ClarisseAlvarenga/alura_experimentos/blob/master/figuras/Figura_5.png?raw=true\">"
      ]
    },
    {
      "cell_type": "code",
      "metadata": {
        "id": "2U9WY53rGM_e"
      },
      "source": [
        "#aumentando o número de ensaios - no centro da área de experimentação. E repetidos no mesmo ponto\n",
        "#para que possamos avaliar a precisão do experimento\n",
        "#inserindo os novos dados no dataframe\n",
        "centro = np.array([[0,0,29],\n",
        "                   [0,0,30],\n",
        "                   [0,0,29],\n",
        "                   [0,0,30]])"
      ],
      "execution_count": 20,
      "outputs": []
    },
    {
      "cell_type": "code",
      "metadata": {
        "id": "KGuHwMTyPebQ"
      },
      "source": [
        "centro_df = pd.DataFrame(centro, columns=['Farinha', 'Chocolate', 'Porcoes'], index=[4,5,6,7])"
      ],
      "execution_count": 21,
      "outputs": []
    },
    {
      "cell_type": "code",
      "metadata": {
        "id": "CC7rK72yP5cP",
        "outputId": "4238a733-87c4-40b1-811e-28a03a6c0efa",
        "colab": {
          "base_uri": "https://localhost:8080/",
          "height": 173
        }
      },
      "source": [
        "centro_df"
      ],
      "execution_count": 22,
      "outputs": [
        {
          "output_type": "execute_result",
          "data": {
            "text/html": [
              "<div>\n",
              "<style scoped>\n",
              "    .dataframe tbody tr th:only-of-type {\n",
              "        vertical-align: middle;\n",
              "    }\n",
              "\n",
              "    .dataframe tbody tr th {\n",
              "        vertical-align: top;\n",
              "    }\n",
              "\n",
              "    .dataframe thead th {\n",
              "        text-align: right;\n",
              "    }\n",
              "</style>\n",
              "<table border=\"1\" class=\"dataframe\">\n",
              "  <thead>\n",
              "    <tr style=\"text-align: right;\">\n",
              "      <th></th>\n",
              "      <th>Farinha</th>\n",
              "      <th>Chocolate</th>\n",
              "      <th>Porcoes</th>\n",
              "    </tr>\n",
              "  </thead>\n",
              "  <tbody>\n",
              "    <tr>\n",
              "      <th>4</th>\n",
              "      <td>0</td>\n",
              "      <td>0</td>\n",
              "      <td>29</td>\n",
              "    </tr>\n",
              "    <tr>\n",
              "      <th>5</th>\n",
              "      <td>0</td>\n",
              "      <td>0</td>\n",
              "      <td>30</td>\n",
              "    </tr>\n",
              "    <tr>\n",
              "      <th>6</th>\n",
              "      <td>0</td>\n",
              "      <td>0</td>\n",
              "      <td>29</td>\n",
              "    </tr>\n",
              "    <tr>\n",
              "      <th>7</th>\n",
              "      <td>0</td>\n",
              "      <td>0</td>\n",
              "      <td>30</td>\n",
              "    </tr>\n",
              "  </tbody>\n",
              "</table>\n",
              "</div>"
            ],
            "text/plain": [
              "   Farinha  Chocolate  Porcoes\n",
              "4        0          0       29\n",
              "5        0          0       30\n",
              "6        0          0       29\n",
              "7        0          0       30"
            ]
          },
          "metadata": {
            "tags": []
          },
          "execution_count": 22
        }
      ]
    },
    {
      "cell_type": "code",
      "metadata": {
        "id": "Lg4IjhO-P6Tf"
      },
      "source": [
        "#união de dataframes\n",
        "experimento = experimento.append(centro_df)"
      ],
      "execution_count": 23,
      "outputs": []
    },
    {
      "cell_type": "code",
      "metadata": {
        "id": "yrHE1rF2QKXG",
        "outputId": "a2377911-55a0-4b1c-e247-9b72ea25eee6",
        "colab": {
          "base_uri": "https://localhost:8080/",
          "height": 297
        }
      },
      "source": [
        "experimento"
      ],
      "execution_count": 24,
      "outputs": [
        {
          "output_type": "execute_result",
          "data": {
            "text/html": [
              "<div>\n",
              "<style scoped>\n",
              "    .dataframe tbody tr th:only-of-type {\n",
              "        vertical-align: middle;\n",
              "    }\n",
              "\n",
              "    .dataframe tbody tr th {\n",
              "        vertical-align: top;\n",
              "    }\n",
              "\n",
              "    .dataframe thead th {\n",
              "        text-align: right;\n",
              "    }\n",
              "</style>\n",
              "<table border=\"1\" class=\"dataframe\">\n",
              "  <thead>\n",
              "    <tr style=\"text-align: right;\">\n",
              "      <th></th>\n",
              "      <th>Farinha</th>\n",
              "      <th>Chocolate</th>\n",
              "      <th>Porcoes</th>\n",
              "    </tr>\n",
              "  </thead>\n",
              "  <tbody>\n",
              "    <tr>\n",
              "      <th>0</th>\n",
              "      <td>-1.0</td>\n",
              "      <td>-1.0</td>\n",
              "      <td>19</td>\n",
              "    </tr>\n",
              "    <tr>\n",
              "      <th>1</th>\n",
              "      <td>1.0</td>\n",
              "      <td>-1.0</td>\n",
              "      <td>37</td>\n",
              "    </tr>\n",
              "    <tr>\n",
              "      <th>2</th>\n",
              "      <td>-1.0</td>\n",
              "      <td>1.0</td>\n",
              "      <td>24</td>\n",
              "    </tr>\n",
              "    <tr>\n",
              "      <th>3</th>\n",
              "      <td>1.0</td>\n",
              "      <td>1.0</td>\n",
              "      <td>49</td>\n",
              "    </tr>\n",
              "    <tr>\n",
              "      <th>4</th>\n",
              "      <td>0.0</td>\n",
              "      <td>0.0</td>\n",
              "      <td>29</td>\n",
              "    </tr>\n",
              "    <tr>\n",
              "      <th>5</th>\n",
              "      <td>0.0</td>\n",
              "      <td>0.0</td>\n",
              "      <td>30</td>\n",
              "    </tr>\n",
              "    <tr>\n",
              "      <th>6</th>\n",
              "      <td>0.0</td>\n",
              "      <td>0.0</td>\n",
              "      <td>29</td>\n",
              "    </tr>\n",
              "    <tr>\n",
              "      <th>7</th>\n",
              "      <td>0.0</td>\n",
              "      <td>0.0</td>\n",
              "      <td>30</td>\n",
              "    </tr>\n",
              "  </tbody>\n",
              "</table>\n",
              "</div>"
            ],
            "text/plain": [
              "   Farinha  Chocolate  Porcoes\n",
              "0     -1.0       -1.0       19\n",
              "1      1.0       -1.0       37\n",
              "2     -1.0        1.0       24\n",
              "3      1.0        1.0       49\n",
              "4      0.0        0.0       29\n",
              "5      0.0        0.0       30\n",
              "6      0.0        0.0       29\n",
              "7      0.0        0.0       30"
            ]
          },
          "metadata": {
            "tags": []
          },
          "execution_count": 24
        }
      ]
    },
    {
      "cell_type": "markdown",
      "metadata": {
        "id": "0qdZPpLEQhRP"
      },
      "source": [
        "## **Análise de Significância Estatística**"
      ]
    },
    {
      "cell_type": "code",
      "metadata": {
        "id": "pM6FheWKQLvu"
      },
      "source": [
        "modelop = smf.ols(data = experimento, formula = 'Porcoes ~ Farinha + Chocolate + Farinha:Chocolate')"
      ],
      "execution_count": 25,
      "outputs": []
    },
    {
      "cell_type": "code",
      "metadata": {
        "id": "4dYUmfxTQ1C6"
      },
      "source": [
        "modelo_ajustado = modelop.fit()"
      ],
      "execution_count": 26,
      "outputs": []
    },
    {
      "cell_type": "code",
      "metadata": {
        "id": "aFco4PEYQ4ZO",
        "outputId": "c3ffaa1a-676d-4af1-de05-37655fb90972",
        "colab": {
          "base_uri": "https://localhost:8080/",
          "height": 510
        }
      },
      "source": [
        "print(modelo_ajustado.summary())"
      ],
      "execution_count": 27,
      "outputs": [
        {
          "output_type": "stream",
          "text": [
            "                            OLS Regression Results                            \n",
            "==============================================================================\n",
            "Dep. Variable:                Porcoes   R-squared:                       0.971\n",
            "Model:                            OLS   Adj. R-squared:                  0.950\n",
            "Method:                 Least Squares   F-statistic:                     45.21\n",
            "Date:                Mon, 05 Oct 2020   Prob (F-statistic):            0.00152\n",
            "Time:                        00:57:45   Log-Likelihood:                -14.155\n",
            "No. Observations:                   8   AIC:                             36.31\n",
            "Df Residuals:                       4   BIC:                             36.63\n",
            "Df Model:                           3                                         \n",
            "Covariance Type:            nonrobust                                         \n",
            "=====================================================================================\n",
            "                        coef    std err          t      P>|t|      [0.025      0.975]\n",
            "-------------------------------------------------------------------------------------\n",
            "Intercept            30.8750      0.710     43.494      0.000      28.904      32.846\n",
            "Farinha              10.7500      1.004     10.708      0.000       7.963      13.537\n",
            "Chocolate             4.2500      1.004      4.233      0.013       1.463       7.037\n",
            "Farinha:Chocolate     1.7500      1.004      1.743      0.156      -1.037       4.537\n",
            "==============================================================================\n",
            "Omnibus:                        4.655   Durbin-Watson:                   0.841\n",
            "Prob(Omnibus):                  0.098   Jarque-Bera (JB):                1.080\n",
            "Skew:                          -0.180   Prob(JB):                        0.583\n",
            "Kurtosis:                       1.237   Cond. No.                         1.41\n",
            "==============================================================================\n",
            "\n",
            "Warnings:\n",
            "[1] Standard Errors assume that the covariance matrix of the errors is correctly specified.\n"
          ],
          "name": "stdout"
        },
        {
          "output_type": "stream",
          "text": [
            "/usr/local/lib/python3.6/dist-packages/scipy/stats/stats.py:1535: UserWarning: kurtosistest only valid for n>=20 ... continuing anyway, n=8\n",
            "  \"anyway, n=%i\" % int(n))\n"
          ],
          "name": "stderr"
        }
      ]
    },
    {
      "cell_type": "markdown",
      "metadata": {
        "id": "k_IVSFRqRjkk"
      },
      "source": [
        "<center>\n",
        "  <img src=\"https://github.com/ClarisseAlvarenga/alura_experimentos/blob/master/figuras/Figura_6.png?raw=true\">\n",
        "</center>\n"
      ]
    },
    {
      "cell_type": "markdown",
      "metadata": {
        "id": "zdCpQi6kRqmt"
      },
      "source": [
        "<center>\n",
        "<img src=\"https://github.com/ClarisseAlvarenga/alura_experimentos/blob/master/figuras/Figura_7.png?raw=true\"> </center>"
      ]
    },
    {
      "cell_type": "markdown",
      "metadata": {
        "id": "7bffAN4YSZ5U"
      },
      "source": [
        "<center>\n",
        "<img src=\"https://github.com/ClarisseAlvarenga/alura_experimentos/blob/master/figuras/Figura_10.png?raw=true\">\n",
        "</center>\n"
      ]
    },
    {
      "cell_type": "markdown",
      "metadata": {
        "id": "XhfKvCz2SAC7"
      },
      "source": [
        "<center><img src=\"https://github.com/ClarisseAlvarenga/alura_experimentos/blob/master/figuras/Figura_8.png?raw=true\"> </center>"
      ]
    },
    {
      "cell_type": "markdown",
      "metadata": {
        "id": "BvgVeMU0T5GP"
      },
      "source": [
        "<center><img src=\"https://github.com/ClarisseAlvarenga/alura_experimentos/blob/master/figuras/Figura_11.png?raw=true\">\n"
      ]
    },
    {
      "cell_type": "markdown",
      "metadata": {
        "id": "3Kt7B0WkVIZv"
      },
      "source": [
        "### Gráfico padronizado de Pareto\n",
        "<center>\n",
        "  <img src=\"https://github.com/ClarisseAlvarenga/alura_experimentos/blob/master/figuras/Figura_20.png?raw=true\">\n",
        "</center>"
      ]
    },
    {
      "cell_type": "code",
      "metadata": {
        "id": "b4WctwJrQ6xM"
      },
      "source": [
        "#pegando os valores de t do modelo \n",
        "t_valores = modelo_ajustado.tvalues"
      ],
      "execution_count": 28,
      "outputs": []
    },
    {
      "cell_type": "code",
      "metadata": {
        "id": "UbgGd6WKUsMg",
        "outputId": "c7f4407c-6a54-41cc-a6ca-8d85c5679a9c",
        "colab": {
          "base_uri": "https://localhost:8080/",
          "height": 102
        }
      },
      "source": [
        "t_valores"
      ],
      "execution_count": 29,
      "outputs": [
        {
          "output_type": "execute_result",
          "data": {
            "text/plain": [
              "Intercept            43.494275\n",
              "Farinha              10.708252\n",
              "Chocolate             4.233495\n",
              "Farinha:Chocolate     1.743204\n",
              "dtype: float64"
            ]
          },
          "metadata": {
            "tags": []
          },
          "execution_count": 29
        }
      ]
    },
    {
      "cell_type": "code",
      "metadata": {
        "id": "2g_oOARZUtAl"
      },
      "source": [
        "nome = t_valores.index.tolist()"
      ],
      "execution_count": 30,
      "outputs": []
    },
    {
      "cell_type": "code",
      "metadata": {
        "id": "NJQ7o1RuVVPU",
        "outputId": "3206b2bf-2995-4073-d5f1-a4993d00ddd3",
        "colab": {
          "base_uri": "https://localhost:8080/",
          "height": 34
        }
      },
      "source": [
        "nome"
      ],
      "execution_count": 31,
      "outputs": [
        {
          "output_type": "execute_result",
          "data": {
            "text/plain": [
              "['Intercept', 'Farinha', 'Chocolate', 'Farinha:Chocolate']"
            ]
          },
          "metadata": {
            "tags": []
          },
          "execution_count": 31
        }
      ]
    },
    {
      "cell_type": "code",
      "metadata": {
        "id": "ualcaUGsV_Ux"
      },
      "source": [
        "#inserir uma linha com o t tabelado\n",
        "from scipy import stats"
      ],
      "execution_count": 38,
      "outputs": []
    },
    {
      "cell_type": "code",
      "metadata": {
        "id": "5sNROtZxWAQQ"
      },
      "source": [
        "distribuicao = stats.t(df = 4)"
      ],
      "execution_count": 39,
      "outputs": []
    },
    {
      "cell_type": "code",
      "metadata": {
        "id": "scBB1CZaWAYZ",
        "outputId": "e2ca3af7-deac-4147-e7cd-ddf50e29846d",
        "colab": {
          "base_uri": "https://localhost:8080/",
          "height": 34
        }
      },
      "source": [
        "#computa a probabilidade de T \n",
        "distribuicao.ppf(q = 1 - 0.025)"
      ],
      "execution_count": 40,
      "outputs": [
        {
          "output_type": "execute_result",
          "data": {
            "text/plain": [
              "2.7764451051977987"
            ]
          },
          "metadata": {
            "tags": []
          },
          "execution_count": 40
        }
      ]
    },
    {
      "cell_type": "code",
      "metadata": {
        "id": "6DlT7LtiWUm7"
      },
      "source": [
        "limite = [distribuicao.ppf(q=1-0.025)]*len(nome)"
      ],
      "execution_count": 41,
      "outputs": []
    },
    {
      "cell_type": "code",
      "metadata": {
        "id": "65dfbLHrWfOU",
        "outputId": "db3098f9-719d-447a-db11-f85d6ee78481",
        "colab": {
          "base_uri": "https://localhost:8080/",
          "height": 85
        }
      },
      "source": [
        "limite"
      ],
      "execution_count": 42,
      "outputs": [
        {
          "output_type": "execute_result",
          "data": {
            "text/plain": [
              "[2.7764451051977987,\n",
              " 2.7764451051977987,\n",
              " 2.7764451051977987,\n",
              " 2.7764451051977987]"
            ]
          },
          "metadata": {
            "tags": []
          },
          "execution_count": 42
        }
      ]
    },
    {
      "cell_type": "markdown",
      "metadata": {
        "id": "TVkN409pVYpc"
      },
      "source": [
        "### **Plotando o gráfico**"
      ]
    },
    {
      "cell_type": "code",
      "metadata": {
        "id": "2dcRtX8rVWPj",
        "outputId": "9fcd216c-dc7b-4a6c-bf6e-2ad79597670b",
        "colab": {
          "base_uri": "https://localhost:8080/",
          "height": 406
        }
      },
      "source": [
        "pareto = sns.barplot(x=t_valores, y=nome)\n",
        "pareto.figure.set_size_inches(15,6)\n",
        "pareto.tick_params(labelsize=20)\n",
        "pareto.set_xlabel('t-valores', fontsize=20)\n",
        "#incluindo o limite do t tabelado - se a coluna for maior que o limite a variável é estatisticamente significativa\n",
        "pareto.plot(limite, nome,'r');\n"
      ],
      "execution_count": 45,
      "outputs": [
        {
          "output_type": "display_data",
          "data": {
            "image/png": "[encoded data removed]",
            "text/plain": [
              "<Figure size 1080x432 with 1 Axes>"
            ]
          },
          "metadata": {
            "tags": []
          }
        }
      ]
    },
    {
      "cell_type": "markdown",
      "metadata": {
        "id": "Vqs9EPARXEDC"
      },
      "source": [
        "## **Propondo um novo modelo estatístico**"
      ]
    },
    {
      "cell_type": "markdown",
      "metadata": {
        "id": "sKJd5Q-6XWDj"
      },
      "source": [
        "<center>\n",
        "  <img src=\"https://github.com/ClarisseAlvarenga/alura_experimentos/blob/master/figuras/Figura_9.png?raw=true\">\n",
        "</center>"
      ]
    },
    {
      "cell_type": "code",
      "metadata": {
        "id": "bnm2xaW0Vhqb"
      },
      "source": [
        "modelo_2 = smf.ols(data=experimento, formula='Porcoes ~ Farinha + Chocolate')"
      ],
      "execution_count": 48,
      "outputs": []
    },
    {
      "cell_type": "code",
      "metadata": {
        "id": "WpP47-GKXzNu"
      },
      "source": [
        "modelo_ajustado_2 = modelo_2.fit()"
      ],
      "execution_count": 49,
      "outputs": []
    },
    {
      "cell_type": "code",
      "metadata": {
        "id": "IgyAkxzUX5D-",
        "outputId": "ee6016d7-3d0c-4369-faea-fc5240d32727",
        "colab": {
          "base_uri": "https://localhost:8080/",
          "height": 493
        }
      },
      "source": [
        "print(modelo_ajustado_2.summary())"
      ],
      "execution_count": 50,
      "outputs": [
        {
          "output_type": "stream",
          "text": [
            "                            OLS Regression Results                            \n",
            "==============================================================================\n",
            "Dep. Variable:                Porcoes   R-squared:                       0.950\n",
            "Model:                            OLS   Adj. R-squared:                  0.929\n",
            "Method:                 Least Squares   F-statistic:                     47.09\n",
            "Date:                Mon, 05 Oct 2020   Prob (F-statistic):           0.000571\n",
            "Time:                        01:28:50   Log-Likelihood:                -16.416\n",
            "No. Observations:                   8   AIC:                             38.83\n",
            "Df Residuals:                       5   BIC:                             39.07\n",
            "Df Model:                           2                                         \n",
            "Covariance Type:            nonrobust                                         \n",
            "==============================================================================\n",
            "                 coef    std err          t      P>|t|      [0.025      0.975]\n",
            "------------------------------------------------------------------------------\n",
            "Intercept     30.8750      0.842     36.658      0.000      28.710      33.040\n",
            "Farinha       10.7500      1.191      9.025      0.000       7.688      13.812\n",
            "Chocolate      4.2500      1.191      3.568      0.016       1.188       7.312\n",
            "==============================================================================\n",
            "Omnibus:                        2.106   Durbin-Watson:                   1.850\n",
            "Prob(Omnibus):                  0.349   Jarque-Bera (JB):                1.245\n",
            "Skew:                           0.868   Prob(JB):                        0.537\n",
            "Kurtosis:                       2.153   Cond. No.                         1.41\n",
            "==============================================================================\n",
            "\n",
            "Warnings:\n",
            "[1] Standard Errors assume that the covariance matrix of the errors is correctly specified.\n"
          ],
          "name": "stdout"
        },
        {
          "output_type": "stream",
          "text": [
            "/usr/local/lib/python3.6/dist-packages/scipy/stats/stats.py:1535: UserWarning: kurtosistest only valid for n>=20 ... continuing anyway, n=8\n",
            "  \"anyway, n=%i\" % int(n))\n"
          ],
          "name": "stderr"
        }
      ]
    },
    {
      "cell_type": "markdown",
      "metadata": {
        "id": "wyYOc8_0Y80u"
      },
      "source": [
        "## **Gráfico padronizado de Pareto no novo modelo**"
      ]
    },
    {
      "cell_type": "code",
      "metadata": {
        "id": "AzPeElKKYCGu"
      },
      "source": [
        "t_valores = modelo_ajustado_2.tvalues"
      ],
      "execution_count": 52,
      "outputs": []
    },
    {
      "cell_type": "code",
      "metadata": {
        "id": "K5rv7fxsZFx0",
        "outputId": "7dec0b96-7d40-426d-9460-2bb93219dfa3",
        "colab": {
          "base_uri": "https://localhost:8080/",
          "height": 85
        }
      },
      "source": [
        "t_valores"
      ],
      "execution_count": 53,
      "outputs": [
        {
          "output_type": "execute_result",
          "data": {
            "text/plain": [
              "Intercept    36.658022\n",
              "Farinha       9.025173\n",
              "Chocolate     3.568092\n",
              "dtype: float64"
            ]
          },
          "metadata": {
            "tags": []
          },
          "execution_count": 53
        }
      ]
    },
    {
      "cell_type": "code",
      "metadata": {
        "id": "SDCA4eMlZITL"
      },
      "source": [
        "nome = t_valores.index.tolist()"
      ],
      "execution_count": 54,
      "outputs": []
    },
    {
      "cell_type": "code",
      "metadata": {
        "id": "BsUzY0p6ZQfU",
        "outputId": "223890e1-a87f-4645-b0f8-48e83fdbd8e8",
        "colab": {
          "base_uri": "https://localhost:8080/",
          "height": 34
        }
      },
      "source": [
        "nome"
      ],
      "execution_count": 55,
      "outputs": [
        {
          "output_type": "execute_result",
          "data": {
            "text/plain": [
              "['Intercept', 'Farinha', 'Chocolate']"
            ]
          },
          "metadata": {
            "tags": []
          },
          "execution_count": 55
        }
      ]
    },
    {
      "cell_type": "code",
      "metadata": {
        "id": "Sqb_BNBkZRDD"
      },
      "source": [
        "#criando a distribuição\n",
        "distribuicao = stats.t(df = 5)"
      ],
      "execution_count": 56,
      "outputs": []
    },
    {
      "cell_type": "code",
      "metadata": {
        "id": "mPzKDJ8aZaAr",
        "outputId": "d8a92e84-156f-4f2f-f806-e30e49a02c24",
        "colab": {
          "base_uri": "https://localhost:8080/",
          "height": 34
        }
      },
      "source": [
        "limite = [distribuicao.ppf(q=1-0.025)]*len(nome)\n",
        "limite"
      ],
      "execution_count": 57,
      "outputs": [
        {
          "output_type": "execute_result",
          "data": {
            "text/plain": [
              "[2.5705818366147395, 2.5705818366147395, 2.5705818366147395]"
            ]
          },
          "metadata": {
            "tags": []
          },
          "execution_count": 57
        }
      ]
    },
    {
      "cell_type": "code",
      "metadata": {
        "id": "M-YgpK-zZff2",
        "outputId": "c7ea3f48-ca68-49ec-8936-2ebab8b72bac",
        "colab": {
          "base_uri": "https://localhost:8080/",
          "height": 406
        }
      },
      "source": [
        "pareto = sns.barplot(x=t_valores, y=nome)\n",
        "pareto.figure.set_size_inches(15,6)\n",
        "pareto.tick_params(labelsize=20)\n",
        "pareto.set_xlabel('t-valores', fontsize=20)\n",
        "#incluindo o limite do t tabelado - se a coluna for maior que o limite a variável é estatisticamente significativa\n",
        "pareto.plot(limite, nome,'r');"
      ],
      "execution_count": 58,
      "outputs": [
        {
          "output_type": "display_data",
          "data": {
            "image/png": "[encoded data removed]",
            "text/plain": [
              "<Figure size 1080x432 with 1 Axes>"
            ]
          },
          "metadata": {
            "tags": []
          }
        }
      ]
    },
    {
      "cell_type": "markdown",
      "metadata": {
        "id": "MrW2xvvKbZap"
      },
      "source": [
        "##**Preditos por observados**"
      ]
    },
    {
      "cell_type": "code",
      "metadata": {
        "id": "ddYv6Yj1Zuu6"
      },
      "source": [
        "observados = experimento['Porcoes']"
      ],
      "execution_count": 59,
      "outputs": []
    },
    {
      "cell_type": "code",
      "metadata": {
        "id": "jlD-wIuQb6xn",
        "outputId": "afe90de6-8cbf-467d-d375-90c785ffb952",
        "colab": {
          "base_uri": "https://localhost:8080/",
          "height": 170
        }
      },
      "source": [
        "observados"
      ],
      "execution_count": 60,
      "outputs": [
        {
          "output_type": "execute_result",
          "data": {
            "text/plain": [
              "0    19\n",
              "1    37\n",
              "2    24\n",
              "3    49\n",
              "4    29\n",
              "5    30\n",
              "6    29\n",
              "7    30\n",
              "Name: Porcoes, dtype: int64"
            ]
          },
          "metadata": {
            "tags": []
          },
          "execution_count": 60
        }
      ]
    },
    {
      "cell_type": "code",
      "metadata": {
        "id": "8R7D0o_-b8J2"
      },
      "source": [
        "preditos = modelo_ajustado_2.predict()"
      ],
      "execution_count": 61,
      "outputs": []
    },
    {
      "cell_type": "code",
      "metadata": {
        "id": "MX_3xZQtcBR2",
        "outputId": "fb58ec47-f846-404b-8325-3508cf901805",
        "colab": {
          "base_uri": "https://localhost:8080/",
          "height": 34
        }
      },
      "source": [
        "preditos"
      ],
      "execution_count": 62,
      "outputs": [
        {
          "output_type": "execute_result",
          "data": {
            "text/plain": [
              "array([15.875, 37.375, 24.375, 45.875, 30.875, 30.875, 30.875, 30.875])"
            ]
          },
          "metadata": {
            "tags": []
          },
          "execution_count": 62
        }
      ]
    },
    {
      "cell_type": "code",
      "metadata": {
        "id": "7-dP3YjBcCIQ"
      },
      "source": [
        "import matplotlib.pyplot as plt\n"
      ],
      "execution_count": 63,
      "outputs": []
    },
    {
      "cell_type": "code",
      "metadata": {
        "id": "vHciOVNzcVAN",
        "outputId": "5e5ea67a-8ea9-4ca3-c3ad-909a55f20e7b",
        "colab": {
          "base_uri": "https://localhost:8080/",
          "height": 339
        }
      },
      "source": [
        "plt.figure(figsize=(10,5))\n",
        "plt.xlabel('Preditos', fontsize=16)\n",
        "plt.ylabel('Observados', fontsize=16)\n",
        "#incluindo a linha ideal de dados\n",
        "x = np.linspace(start = 15, stop=50, num=10)\n",
        "y = np.linspace(start = 15, stop=50, num=10)\n",
        "plt.plot(x,y, 'r');\n",
        "plt.scatter(preditos, observados);"
      ],
      "execution_count": 72,
      "outputs": [
        {
          "output_type": "display_data",
          "data": {
            "image/png": "[encoded data removed]",
            "text/plain": [
              "<Figure size 720x360 with 1 Axes>"
            ]
          },
          "metadata": {
            "tags": []
          }
        }
      ]
    },
    {
      "cell_type": "code",
      "metadata": {
        "id": "WdZROTqRc-7G",
        "outputId": "3a8b5767-b981-4acf-f929-32d236d580ce",
        "colab": {
          "base_uri": "https://localhost:8080/",
          "height": 493
        }
      },
      "source": [
        "print(modelo_ajustado_2.summary())"
      ],
      "execution_count": 73,
      "outputs": [
        {
          "output_type": "stream",
          "text": [
            "                            OLS Regression Results                            \n",
            "==============================================================================\n",
            "Dep. Variable:                Porcoes   R-squared:                       0.950\n",
            "Model:                            OLS   Adj. R-squared:                  0.929\n",
            "Method:                 Least Squares   F-statistic:                     47.09\n",
            "Date:                Mon, 05 Oct 2020   Prob (F-statistic):           0.000571\n",
            "Time:                        01:55:04   Log-Likelihood:                -16.416\n",
            "No. Observations:                   8   AIC:                             38.83\n",
            "Df Residuals:                       5   BIC:                             39.07\n",
            "Df Model:                           2                                         \n",
            "Covariance Type:            nonrobust                                         \n",
            "==============================================================================\n",
            "                 coef    std err          t      P>|t|      [0.025      0.975]\n",
            "------------------------------------------------------------------------------\n",
            "Intercept     30.8750      0.842     36.658      0.000      28.710      33.040\n",
            "Farinha       10.7500      1.191      9.025      0.000       7.688      13.812\n",
            "Chocolate      4.2500      1.191      3.568      0.016       1.188       7.312\n",
            "==============================================================================\n",
            "Omnibus:                        2.106   Durbin-Watson:                   1.850\n",
            "Prob(Omnibus):                  0.349   Jarque-Bera (JB):                1.245\n",
            "Skew:                           0.868   Prob(JB):                        0.537\n",
            "Kurtosis:                       2.153   Cond. No.                         1.41\n",
            "==============================================================================\n",
            "\n",
            "Warnings:\n",
            "[1] Standard Errors assume that the covariance matrix of the errors is correctly specified.\n"
          ],
          "name": "stdout"
        },
        {
          "output_type": "stream",
          "text": [
            "/usr/local/lib/python3.6/dist-packages/scipy/stats/stats.py:1535: UserWarning: kurtosistest only valid for n>=20 ... continuing anyway, n=8\n",
            "  \"anyway, n=%i\" % int(n))\n"
          ],
          "name": "stderr"
        }
      ]
    },
    {
      "cell_type": "markdown",
      "metadata": {
        "id": "LkpWJYEPelxr"
      },
      "source": [
        "## **Explorando o modelo**"
      ]
    },
    {
      "cell_type": "markdown",
      "metadata": {
        "id": "_WOw8krrfkBn"
      },
      "source": [
        "<center>\n",
        "  <img src=\"https://github.com/ClarisseAlvarenga/alura_experimentos/blob/master/figuras/Figura_22.png?raw=true\">\n",
        "</center>"
      ]
    },
    {
      "cell_type": "code",
      "metadata": {
        "id": "SQ4jn5gFeCSD"
      },
      "source": [
        "parametros = modelo_ajustado_2.params"
      ],
      "execution_count": 74,
      "outputs": []
    },
    {
      "cell_type": "code",
      "metadata": {
        "id": "AOCzA2gCeyeQ",
        "outputId": "7c2d870f-c13f-4744-bc1b-25b25fabd3da",
        "colab": {
          "base_uri": "https://localhost:8080/",
          "height": 85
        }
      },
      "source": [
        "parametros"
      ],
      "execution_count": 75,
      "outputs": [
        {
          "output_type": "execute_result",
          "data": {
            "text/plain": [
              "Intercept    30.875\n",
              "Farinha      10.750\n",
              "Chocolate     4.250\n",
              "dtype: float64"
            ]
          },
          "metadata": {
            "tags": []
          },
          "execution_count": 75
        }
      ]
    },
    {
      "cell_type": "code",
      "metadata": {
        "id": "oPd-i31fe0Bw"
      },
      "source": [
        "#definindo uma função para a Bel usar\n",
        "def modelo_receita(x_f, x_c):\n",
        "  #normalizando os valores passados pela cliente\n",
        "  #Limites\n",
        "  limite_normalizado = [-1,1]\n",
        "  limite_farinha = [0.5,1.5]\n",
        "  limite_chocolate = [0.1,0.5]\n",
        "  #conversão (faz uma interpolação)\n",
        "  x_f_convertido = np.interp(x_f, limite_farinha, limite_normalizado)\n",
        "  x_c_convertido = np.interp(x_c, limite_chocolate, limite_normalizado)\n",
        "\n",
        "  #construir o modelo\n",
        "  porcoes = parametros['Intercept'] + parametros['Farinha']*x_f_convertido + parametros['Chocolate']*x_c_convertido\n",
        "  return round(porcoes)"
      ],
      "execution_count": 84,
      "outputs": []
    },
    {
      "cell_type": "code",
      "metadata": {
        "id": "oO8oZI7PfQ53",
        "outputId": "4eeb2a42-58df-4d36-b264-f5e94f12f8ab",
        "colab": {
          "base_uri": "https://localhost:8080/",
          "height": 34
        }
      },
      "source": [
        "#esta função recebe os valores reais em kilogramas passados pel\n",
        "modelo_receita(0.5,0.1)"
      ],
      "execution_count": 86,
      "outputs": [
        {
          "output_type": "execute_result",
          "data": {
            "text/plain": [
              "16.0"
            ]
          },
          "metadata": {
            "tags": []
          },
          "execution_count": 86
        }
      ]
    },
    {
      "cell_type": "markdown",
      "metadata": {
        "id": "FrsX1AaAheWM"
      },
      "source": [
        "### Diferenças entre leis estatísticas e leis matemáticas"
      ]
    },
    {
      "cell_type": "markdown",
      "metadata": {
        "id": "C3Ru0Zo1hqM1"
      },
      "source": [
        "<center>\n",
        "  <img src = \"https://github.com/ClarisseAlvarenga/alura_experimentos/blob/master/figuras/Figura_21.png?raw=true\">\n",
        "</center>"
      ]
    },
    {
      "cell_type": "code",
      "metadata": {
        "id": "W0KlatTVie0y",
        "outputId": "74aeb608-460f-46be-c98c-f69b652931c3",
        "colab": {
          "base_uri": "https://localhost:8080/",
          "height": 51
        }
      },
      "source": [
        "x_farinha = np.linspace(start=0.5, stop=1.5, num=10)\n",
        "x_farinha"
      ],
      "execution_count": 89,
      "outputs": [
        {
          "output_type": "execute_result",
          "data": {
            "text/plain": [
              "array([0.5       , 0.61111111, 0.72222222, 0.83333333, 0.94444444,\n",
              "       1.05555556, 1.16666667, 1.27777778, 1.38888889, 1.5       ])"
            ]
          },
          "metadata": {
            "tags": []
          },
          "execution_count": 89
        }
      ]
    },
    {
      "cell_type": "code",
      "metadata": {
        "id": "oLjHfJMXiuKb",
        "outputId": "bb2b760f-0078-4f11-ee9f-90b900825927",
        "colab": {
          "base_uri": "https://localhost:8080/",
          "height": 51
        }
      },
      "source": [
        "x_chocolate = np.linspace(start=0.1, stop=0.5, num=10)\n",
        "x_chocolate"
      ],
      "execution_count": 90,
      "outputs": [
        {
          "output_type": "execute_result",
          "data": {
            "text/plain": [
              "array([0.1       , 0.14444444, 0.18888889, 0.23333333, 0.27777778,\n",
              "       0.32222222, 0.36666667, 0.41111111, 0.45555556, 0.5       ])"
            ]
          },
          "metadata": {
            "tags": []
          },
          "execution_count": 90
        }
      ]
    },
    {
      "cell_type": "code",
      "metadata": {
        "id": "-nT6iQqAi5Cw"
      },
      "source": [
        "#usando a função criada para mostrar o modelo atuando em vários pontos do experimento\n",
        "pontos = []\n",
        "for cont1 in x_farinha:\n",
        "  temp = []\n",
        "  for cont2 in x_chocolate:\n",
        "    temp.append(modelo_receita(cont1,cont2))\n",
        "  pontos.append(temp)\n",
        "    "
      ],
      "execution_count": 91,
      "outputs": []
    },
    {
      "cell_type": "code",
      "metadata": {
        "id": "x8n-_OSEjkgv",
        "outputId": "1df96377-165d-43a2-fe10-73a98a20d14d",
        "colab": {
          "base_uri": "https://localhost:8080/",
          "height": 187
        }
      },
      "source": [
        "#visualizando minhas predições\n",
        "pontos"
      ],
      "execution_count": 92,
      "outputs": [
        {
          "output_type": "execute_result",
          "data": {
            "text/plain": [
              "[[16.0, 17.0, 18.0, 19.0, 20.0, 21.0, 22.0, 22.0, 23.0, 24.0],\n",
              " [18.0, 19.0, 20.0, 21.0, 22.0, 23.0, 24.0, 25.0, 26.0, 27.0],\n",
              " [21.0, 22.0, 23.0, 23.0, 24.0, 25.0, 26.0, 27.0, 28.0, 29.0],\n",
              " [23.0, 24.0, 25.0, 26.0, 27.0, 28.0, 29.0, 30.0, 31.0, 32.0],\n",
              " [25.0, 26.0, 27.0, 28.0, 29.0, 30.0, 31.0, 32.0, 33.0, 34.0],\n",
              " [28.0, 29.0, 30.0, 31.0, 32.0, 33.0, 33.0, 34.0, 35.0, 36.0],\n",
              " [30.0, 31.0, 32.0, 33.0, 34.0, 35.0, 36.0, 37.0, 38.0, 39.0],\n",
              " [33.0, 34.0, 34.0, 35.0, 36.0, 37.0, 38.0, 39.0, 40.0, 41.0],\n",
              " [35.0, 36.0, 37.0, 38.0, 39.0, 40.0, 41.0, 42.0, 43.0, 43.0],\n",
              " [37.0, 38.0, 39.0, 40.0, 41.0, 42.0, 43.0, 44.0, 45.0, 46.0]]"
            ]
          },
          "metadata": {
            "tags": []
          },
          "execution_count": 92
        }
      ]
    },
    {
      "cell_type": "markdown",
      "metadata": {
        "id": "bhXIwaxFjqsW"
      },
      "source": [
        "## **Construindo a superfície da resposta**"
      ]
    },
    {
      "cell_type": "code",
      "metadata": {
        "id": "TyX2Q-57jlSv"
      },
      "source": [
        "#importando a paleta de cores do matplotlib\n",
        "import matplotlib.cm as cm"
      ],
      "execution_count": 93,
      "outputs": []
    },
    {
      "cell_type": "code",
      "metadata": {
        "id": "4jND2wBjj9nV",
        "outputId": "0cfe143e-5988-40ed-e5a2-2676195e023f",
        "colab": {
          "base_uri": "https://localhost:8080/",
          "height": 392
        }
      },
      "source": [
        "#construindo nosso gráfico de cores\n",
        "#base\n",
        "plt.figure(figsize=(18,6))\n",
        "#nomeando os eixos\n",
        "plt.xlabel('Farinha (kg)', fontsize=16)\n",
        "plt.ylabel('Chocolate(kg)', fontsize=(16))\n",
        "#construindo o mapa de cores, o lower  inverte a matriz de valores, usando interpolação quádrica e \n",
        "#os limites (extent), são os limites de nossas variáveis na ordem x (min, max)e y(min, max)\n",
        "mapa_cor = plt.imshow(pontos,origin='lower',cmap=cm.rainbow, interpolation='quadric',extent=(0.5,1.5,0.1,0.5))\n",
        "#incluindo uma barra de cor\n",
        "plt.colorbar().set_label('Porções', fontsize=16)\n",
        "#INCLUINDO ISOLINHAS\n",
        "#incluindo linhas com os dados usados na previsão e as previsões, na cor preta e com espessura de linha de 1,5\n",
        "linhas = plt.contour(x_farinha, x_chocolate, pontos,colors='k', linewidths=1.5) #estas linhas representam as regiões onde a quantidade de cupcakes é igual\n",
        "#incluindo valores nas linhas, dentro das linhas com espaçamento de 10 e valores arredondados\n",
        "plt.clabel(linhas,inline=True, fontsize=15, inline_spacing=10, fmt='%1.0f');\n"
      ],
      "execution_count": 107,
      "outputs": [
        {
          "output_type": "display_data",
          "data": {
            "image/png": "[encoded data removed]",
            "text/plain": [
              "<Figure size 1296x432 with 2 Axes>"
            ]
          },
          "metadata": {
            "tags": []
          }
        }
      ]
    },
    {
      "cell_type": "code",
      "metadata": {
        "id": "xL4ZkK8dk7vU"
      },
      "source": [
        "\n"
      ],
      "execution_count": null,
      "outputs": []
    }
  ]
}